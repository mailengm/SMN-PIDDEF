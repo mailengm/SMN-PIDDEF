{
 "cells": [
  {
   "cell_type": "code",
   "execution_count": 1,
   "metadata": {
    "collapsed": false
   },
   "outputs": [
    {
     "name": "stdout",
     "output_type": "stream",
     "text": [
      "\n",
      "## You are using the Python ARM Radar Toolkit (Py-ART), an open source\n",
      "## library for working with weather radar data.\n",
      "##\n",
      "## If you use this software to prepare a publication, please cite:\n",
      "##\n",
      "##     JJ Helmus and SM Collis, JORS 2016, doi: 10.5334/jors.119 \n"
     ]
    }
   ],
   "source": [
    "%reset_selective -f b\n",
    "\n",
    "# Este comando le indica a Python que las figuras se deben generar dentro de la misma Notebook, no en una ventana\n",
    "## Solo para notebooks.\n",
    "%matplotlib inline\n",
    "\n",
    "from matplotlib import pyplot as plt\n",
    "from matplotlib import colors\n",
    "#from sklearn.svm import SVC\n",
    "import numpy as np\n",
    "import glob\n",
    "import pyart\n",
    "import scipy.io as sio\n",
    "import re\n"
   ]
  },
  {
   "cell_type": "code",
   "execution_count": 31,
   "metadata": {
    "collapsed": false
   },
   "outputs": [],
   "source": [
    "def read_files(day,init_time):\n",
    "    day = str(day)\n",
    "    init_time = str(init_time)\n",
    "    path_user_radar = './febdBZ/'+ day + '/'\n",
    "    FileList_radar = np.sort(glob.glob(path_user_radar+'*.nc'))\n",
    "    \n",
    "    file2read_radar=0\n",
    "    for i in range(len(FileList_radar)):\n",
    "        file2read_radar_time = FileList_radar[i].split('_')[1][:4]\n",
    "        if (file2read_radar_time == init_time):\n",
    "            file2read_radar = FileList_radar[i]\n",
    "    \n",
    "    return(file2read_radar)\n",
    " \n",
    "\n",
    "\n",
    "\n",
    "def chequear_existencia(day,init_time):\n",
    "    day = str(day)\n",
    "    init_time = str(init_time)\n",
    "    path_user_radar = './febdBZ/'+ day + '/'\n",
    "    FileList_radar = np.sort(glob.glob(path_user_radar+'*.nc'))\n",
    "    existencia = False\n",
    "    for i in range(len(FileList_radar)):\n",
    "        file2read_radar_time = FileList_radar[i].split('_')[1][:4]\n",
    "        if (file2read_radar_time == init_time):\n",
    "            existencia=True\n",
    "    if not existencia:\n",
    "        print('No se encontró el archivo',day, init_time)\n",
    "    return(existencia)\n",
    "\n",
    "def get_volumes(day, init_time, bins=240,diff=30):\n",
    "    diff=diff/10\n",
    "    day = str(day)\n",
    "    init_time = str(init_time)\n",
    "    path_user_radar = './febdBZ/'+ day + '/'\n",
    "    FileList_radar = np.sort(glob.glob(path_user_radar+'*.nc'))\n",
    "    proof = 0\n",
    "    file2read_radar=0\n",
    "    \n",
    "    for i in range(len(FileList_radar)):\n",
    "        file2read_radar_time = FileList_radar[i].split('_')[1][:4]\n",
    "        if (file2read_radar_time == init_time):\n",
    "            file2read_radar = FileList_radar[i]\n",
    "            proof= int(i+diff)\n",
    "           \n",
    "    \n",
    "    file2follow = FileList_radar[proof]   \n",
    "               \n",
    "\n",
    "    radar = pyart.io.read(file2read_radar)\n",
    "    radar2 = pyart.io.read(file2follow)\n",
    "    \n",
    "    gatefilter = pyart.filters.GateFilter(radar)\n",
    "    \n",
    "    gatefilter.exclude_transition()\n",
    "    gatefilter.exclude_masked('dBZ')\n",
    "    \n",
    "    grid = pyart.map.grid_from_radars((radar,), \n",
    "                                gatefilters=(gatefilter, ),\n",
    "                                grid_shape=(1, bins, bins),\n",
    "                                grid_limits=((0, 0), (-bins*1000, bins*1000), (-bins*1000, bins*1000)),\n",
    "                                fields=['dBZ'])\n",
    "    \n",
    "    gatefilter2 = pyart.filters.GateFilter(radar2)\n",
    "    \n",
    "    gatefilter2.exclude_transition()\n",
    "    gatefilter2.exclude_masked('dBZ')\n",
    "    \n",
    "    grid2 = pyart.map.grid_from_radars(\n",
    "        (radar2,), gatefilters=(gatefilter2, ),\n",
    "        grid_shape=(1, bins, bins),\n",
    "        grid_limits=((0, 0), (-bins*1000, bins*1000), (-bins*1000, bins*1000)),\n",
    "        fields=['dBZ'])\n",
    "            \n",
    "            \n",
    "    \n",
    "    return (grid,grid2)\n",
    "\n",
    "def get_labels(lines,threshold=35):\n",
    "    samples = []\n",
    "    eventos = len(lines)\n",
    "    for i in range(eventos):\n",
    "        (fecha,hora)=(lines[i].strip().split(\"\\t\")[0],lines[i].strip().split(\"\\t\")[1])\n",
    "        if chequear_existencia(fecha,hora):\n",
    "            samples.append(get_volumes(fecha,hora)[1])\n",
    "        else:\n",
    "            eventos=eventos-1\n",
    "    \n",
    "    labels = []\n",
    "    for i in range(eventos):\n",
    "        grid = samples[i].fields['dBZ']['data'][0]\n",
    "        for x in range(240):\n",
    "            for y in range(240):\n",
    "                if not grid.mask[x,y]:\n",
    "                    if grid[x,y]<35:\n",
    "                        grid.data[x,y]=0\n",
    "                    else:\n",
    "                        grid.data[x,y]=1\n",
    "        labels.append(grid)\n",
    "    return(labels)\n",
    "\n",
    "def get_rays(day):\n",
    "    folder=str(day)[:6]\n",
    "    dia=str(day)\n",
    "    path_user_rayos = './rayos/'+ folder + '/' + dia\n",
    "    # Con esto levanto todos los datos de rayos país ese día\n",
    "    with open(path_user_rayos+'.txt') as f:\n",
    "        lights = f.readlines()\n",
    "    return(lights)\n",
    "\n",
    "def get_limits(day,init_time):\n",
    "    grid=get_volumes(day,init_time)[0]\n",
    "    lat_grid = grid.get_point_longitude_latitude(level=0, edges=False)[1]\n",
    "    lon_grid = grid.get_point_longitude_latitude(level=0, edges=False)[0]\n",
    "    extLat   = [np.amin(lat_grid),np.amax(lat_grid)]\n",
    "    extLon   = [np.amin(lon_grid),np.amax(lon_grid)]\n",
    "    return(extLon,extLat)\n",
    "\n",
    "def rayos_correctos(archivo,limite_tiempo,limite_lon,limite_lat):\n",
    "    index = []\n",
    "    for i in range(len(archivo)):\n",
    "        foo=archivo[i].split()\n",
    "        t=(foo[3]+foo[4]+foo[5])\n",
    "        if (t<limite_tiempo[1]) and (t>limite_tiempo[0]) :\n",
    "            \n",
    "            if(float(foo[7])>limite_lat[0]) and (float(foo[7])<limite_lat[1]):\n",
    "                \n",
    "                if(float(foo[8])>limite_lon[0]) and (float(foo[8])<limite_lon[1]):\n",
    "                    index.append(i)\n",
    "    return(index)\n",
    "    \n",
    "\n",
    "    "
   ]
  },
  {
   "cell_type": "code",
   "execution_count": 3,
   "metadata": {
    "collapsed": false
   },
   "outputs": [],
   "source": [
    "with open('dates.txt') as f:\n",
    "    datos_samples = f.readlines()\n"
   ]
  },
  {
   "cell_type": "code",
   "execution_count": 10,
   "metadata": {
    "collapsed": false
   },
   "outputs": [
    {
     "name": "stdout",
     "output_type": "stream",
     "text": [
      "('No se encontr\\xc3\\xb3 el archivo', '20170219', '2240')\n"
     ]
    }
   ],
   "source": [
    "etiquetas = get_labels(datos_samples)\n"
   ]
  },
  {
   "cell_type": "code",
   "execution_count": 39,
   "metadata": {
    "collapsed": false
   },
   "outputs": [
    {
     "data": {
      "text/plain": [
       "numpy.ma.core.MaskedArray"
      ]
     },
     "execution_count": 39,
     "metadata": {},
     "output_type": "execute_result"
    }
   ],
   "source": [
    "type(etiquetas[0])"
   ]
  },
  {
   "cell_type": "markdown",
   "metadata": {
    "collapsed": false
   },
   "source": [
    "### Rayos\n"
   ]
  },
  {
   "cell_type": "code",
   "execution_count": 4,
   "metadata": {
    "collapsed": true
   },
   "outputs": [],
   "source": [
    "(fecha,hora)=(datos_samples[0].strip().split(\"\\t\")[0],datos_samples[0].strip().split(\"\\t\")[1])\n",
    "(Lat, Lon)= get_limits(fecha,hora)"
   ]
  },
  {
   "cell_type": "code",
   "execution_count": 5,
   "metadata": {
    "collapsed": false
   },
   "outputs": [
    {
     "name": "stdout",
     "output_type": "stream",
     "text": [
      "([-66.754157243330312, -61.225976756669681], [-38.698056318536423, -34.352495282538385])\n"
     ]
    }
   ],
   "source": [
    "print(Lat,Lon)"
   ]
  },
  {
   "cell_type": "code",
   "execution_count": 44,
   "metadata": {
    "collapsed": false
   },
   "outputs": [],
   "source": [
    "bins=240\n",
    "difLat   = bins/(Lat[1]-Lat[0])\n",
    "difLon   = bins/(Lon[1]-Lon[0])"
   ]
  },
  {
   "cell_type": "code",
   "execution_count": 36,
   "metadata": {
    "collapsed": false
   },
   "outputs": [],
   "source": [
    "#Indices de los rayos que estan en los límites del radar\n",
    "eventos = len(datos_samples)\n",
    "index = []\n",
    "eventos=2\n",
    "for i in range(eventos):\n",
    "    (fecha,hora)=(datos_samples[i].strip().split(\"\\t\")[0],datos_samples[i].strip().split(\"\\t\")[1])\n",
    "    if chequear_existencia(fecha,hora):\n",
    "    \n",
    "        file2read_radar=read_files(fecha,hora)\n",
    "        \n",
    "        horario = (file2read_radar.split('_')[1],file2read_radar.split('_')[4])\n",
    "        lines = get_rays(fecha)\n",
    "        ind = rayos_correctos(lines,horario, Lon, Lat) \n",
    "        #print(ind)\n",
    "                           \n",
    "    else:\n",
    "        eventos=eventos-1\n",
    "    index.append(ind)\n",
    "    \n",
    "#Ahora solo necesito mapearlos en una grilla\n"
   ]
  },
  {
   "cell_type": "code",
   "execution_count": 46,
   "metadata": {
    "collapsed": false
   },
   "outputs": [
    {
     "name": "stdout",
     "output_type": "stream",
     "text": [
      "('No se encontr\\xc3\\xb3 el archivo', '20170219', '2240')\n"
     ]
    }
   ],
   "source": [
    "\n",
    "indices = np.zeros((bins,bins), dtype=object) # En este array tengo el índice del rayo en la lista\n",
    "time = np.zeros((bins,bins), dtype=object) # En este array guardo el tiempo en el que ocurrió cada rayo\n",
    "intensidad = np.zeros((bins,bins), dtype=object) # Y en este la intensidad\n",
    "FR = np.zeros((bins,bins), dtype=object) # en este array calculo la cantidad de rayos y lo divido por el intervalo de ocurrencia\n",
    "i=0\n",
    "j=0\n",
    "\n",
    "for l in range(len(Rayos['x'])):\n",
    "    i=Rayos['x'][l]\n",
    "    j=Rayos['y'][l]\n",
    "    indices[i,j]=np.append(indices[i,j],l)\n",
    "    intensidad[i,j]=np.append(intensidad[i,j],Rayos['Int'][l])\n",
    "    time[i,j]=np.append(time[i,j],Rayos['Time'][l])\n",
    "    \n",
    "for i in range(bins):\n",
    "    for j in range(bins):\n",
    "        if not isinstance(indices[i,j], int):\n",
    "            indices[i,j] = np.delete(indices[i,j],0)\n",
    "            intensidad[i,j] = np.delete(intensidad[i,j],0)\n",
    "            time[i,j] = np.delete(time[i,j],0)\n",
    "            FR[i,j] = np.size(indices[i,j])\n",
    "            \n",
    "            if FR[i,j]>1:\n",
    "                tiempo=[]\n",
    "                for ind in indices[i,j]:\n",
    "                    \n",
    "                    tiempo.append(Rayos['Time'][ind])\n",
    "                    \n",
    "                    \n",
    "                dif=float(max(tiempo))-float(min(tiempo))\n",
    "                if dif != 0:\n",
    "                    #print(FR[i,j])\n",
    "                    #print(float(max(tiempo)),float(min(tiempo)))\n",
    "                    FR[i,j]=FR[i,j]/dif\n",
    "                else:\n",
    "                    FR[i,j]=1\n",
    "            \n",
    "                \n",
    "                \n",
    "Rayos = {'Lat': latitude, 'Long': longitude, 'Time': time, 'Int': intensity, 'x':lonBin, 'y':latBin, \n",
    "         'Ind': indices, 'FR':FR}\n",
    "# Agrego los arrays que conseguí en un diccionario. Quisiera que estos sean los campos.\n",
    "Campos = {'Ind': indices, 'Intensidad': intensidad, 'Tiempo':time, 'FR': FR}"
   ]
  },
  {
   "cell_type": "code",
   "execution_count": null,
   "metadata": {
    "collapsed": false
   },
   "outputs": [],
   "source": []
  },
  {
   "cell_type": "code",
   "execution_count": null,
   "metadata": {
    "collapsed": true
   },
   "outputs": [],
   "source": []
  }
 ],
 "metadata": {
  "anaconda-cloud": {},
  "kernelspec": {
   "display_name": "Python [default]",
   "language": "python",
   "name": "python2"
  },
  "language_info": {
   "codemirror_mode": {
    "name": "ipython",
    "version": 2
   },
   "file_extension": ".py",
   "mimetype": "text/x-python",
   "name": "python",
   "nbconvert_exporter": "python",
   "pygments_lexer": "ipython2",
   "version": "2.7.12"
  }
 },
 "nbformat": 4,
 "nbformat_minor": 2
}
