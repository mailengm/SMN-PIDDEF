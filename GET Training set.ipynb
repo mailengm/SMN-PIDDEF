{
 "cells": [
  {
   "cell_type": "code",
   "execution_count": 5,
   "metadata": {
    "collapsed": false
   },
   "outputs": [
    {
     "name": "stdout",
     "output_type": "stream",
     "text": [
      "\n",
      "## You are using the Python ARM Radar Toolkit (Py-ART), an open source\n",
      "## library for working with weather radar data. Py-ART is partly\n",
      "## supported by the U.S. Department of Energy as part of the Atmospheric\n",
      "## Radiation Measurement (ARM) Climate Research Facility, an Office of\n",
      "## Science user facility.\n",
      "##\n",
      "## If you use this software to prepare a publication, please cite:\n",
      "##\n",
      "##     JJ Helmus and SM Collis, JORS 2016, doi: 10.5334/jors.119\n",
      "\n"
     ]
    }
   ],
   "source": [
    "%reset_selective -f b\n",
    "\n",
    "# Este comando le indica a Python que las figuras se deben generar dentro de la misma Notebook, no en una ventana\n",
    "## Solo para notebooks.\n",
    "%matplotlib inline\n",
    "\n",
    "from matplotlib import pyplot as plt\n",
    "from matplotlib import colors\n",
    "from sklearn.svm import SVC\n",
    "\n",
    "import numpy as np\n",
    "import glob\n",
    "import pyart\n",
    "import scipy.io as sio\n",
    "import re"
   ]
  },
  {
   "cell_type": "code",
   "execution_count": 6,
   "metadata": {
    "collapsed": true
   },
   "outputs": [],
   "source": [
    "def read_files(day,init_time):\n",
    "    day = str(day)\n",
    "    init_time = str(init_time)\n",
    "    path_user_radar = './febdBZ/'+ day + '/'\n",
    "    FileList_radar = np.sort(glob.glob(path_user_radar+'*.nc'))\n",
    "    \n",
    "    file2read_radar=0\n",
    "    for i in range(len(FileList_radar)):\n",
    "        file2read_radar_time = FileList_radar[i].split('_')[1][:4]\n",
    "        if (file2read_radar_time == init_time):\n",
    "            file2read_radar = FileList_radar[i]\n",
    "    \n",
    "    return()\n",
    "    "
   ]
  },
  {
   "cell_type": "code",
   "execution_count": 7,
   "metadata": {
    "collapsed": false
   },
   "outputs": [
    {
     "data": {
      "text/plain": [
       "()"
      ]
     },
     "execution_count": 7,
     "metadata": {},
     "output_type": "execute_result"
    }
   ],
   "source": [
    "read_files(20170205,'0950')"
   ]
  },
  {
   "cell_type": "code",
   "execution_count": 8,
   "metadata": {
    "collapsed": false
   },
   "outputs": [],
   "source": [
    "def get_volumes(day, init_time, bins=240,diff=30):\n",
    "    diff=diff/10\n",
    "    day = str(day)\n",
    "    init_time = str(init_time)\n",
    "    path_user_radar = './febdBZ/'+ day + '/'\n",
    "    FileList_radar = np.sort(glob.glob(path_user_radar+'*.nc'))\n",
    "    proof = 0\n",
    "    file2read_radar=0\n",
    "    for i in range(len(FileList_radar)):\n",
    "        file2read_radar_time = FileList_radar[i].split('_')[1][:4]\n",
    "        if (file2read_radar_time == init_time):\n",
    "            file2read_radar = FileList_radar[i]\n",
    "            print(day)\n",
    "            proof= int(i+diff)\n",
    "            \n",
    "        \n",
    "    file2follow = FileList_radar[proof]   \n",
    "               \n",
    "    #iTime = file2read_radar.split('_')[1]\n",
    "    #fTime = file2read_radar.split('_')[4]\n",
    "    #time = [iTime,fTime]\n",
    "    #iTime2 = file2follow.split('_')[1]\n",
    "    #fTime2 = file2follow.split('_')[4]\n",
    "    #time2 = [iTime2,fTime2]\n",
    "    radar = pyart.io.read(file2read_radar)\n",
    "    radar2 = pyart.io.read(file2follow)\n",
    "    \n",
    "    gatefilter = pyart.filters.GateFilter(radar)\n",
    "    \n",
    "    gatefilter.exclude_transition()\n",
    "    gatefilter.exclude_masked('dBZ')\n",
    "    \n",
    "    grid = pyart.map.grid_from_radars((radar,), gatefilters=(gatefilter, ),grid_shape=(1, bins, bins),\n",
    "    grid_limits=((0, 0), (-bins*1000, bins*1000), (-bins*1000, bins*1000)),fields=['dBZ'])\n",
    "    \n",
    "    gatefilter2 = pyart.filters.GateFilter(radar2)\n",
    "    \n",
    "    gatefilter2.exclude_transition()\n",
    "    gatefilter2.exclude_masked('dBZ')\n",
    "    \n",
    "    grid2 = pyart.map.grid_from_radars((radar2,), gatefilters=(gatefilter2, ),grid_shape=(1, bins, bins),\n",
    "    grid_limits=((0, 0), (-bins*1000, bins*1000), (-bins*1000, bins*1000)),fields=['dBZ'])\n",
    "    #print('grids ready')\n",
    "    \n",
    "    \n",
    "    #return (grid,grid2,time, time2)\n",
    "    return (grid,grid2)"
   ]
  },
  {
   "cell_type": "code",
   "execution_count": 9,
   "metadata": {
    "collapsed": true
   },
   "outputs": [],
   "source": [
    "def get_labels(lines,threshold=35):\n",
    "    samples = []\n",
    "    for i in range(len(lines)):\n",
    "        (fecha,hora)=(lines[i].strip().split(\"\\t\")[0],lines[i].strip().split(\"\\t\")[1])\n",
    "        samples.append(get_volumes(fecha,hora)[1])\n",
    "    \n",
    "    labels = []\n",
    "    for i in range(len(lines)):\n",
    "        grid = samples[i].fields['dBZ']['data'][0]\n",
    "        for x in range(240):\n",
    "            for y in range(240):\n",
    "                if grid[x,y]<35:\n",
    "                    grid[x,y]=0\n",
    "                else:\n",
    "                    grid[x,y]=1\n",
    "                \n",
    "        labels.append(grid)\n",
    "        print('Labels ready')\n",
    "    return(labels)"
   ]
  },
  {
   "cell_type": "code",
   "execution_count": null,
   "metadata": {
    "collapsed": false
   },
   "outputs": [],
   "source": [
    "with open('dates.txt') as f:\n",
    "    datos_rayo = f.readlines()\n"
   ]
  },
  {
   "cell_type": "code",
   "execution_count": null,
   "metadata": {
    "collapsed": false,
    "scrolled": true
   },
   "outputs": [
    {
     "name": "stdout",
     "output_type": "stream",
     "text": [
      "20170202\n",
      "20170202\n",
      "20170202\n",
      "20170202\n",
      "20170203\n",
      "20170203\n",
      "20170203\n",
      "20170203\n",
      "20170203\n",
      "20170203\n",
      "20170203\n",
      "20170203\n",
      "20170203\n",
      "20170203\n",
      "20170203\n",
      "20170203\n",
      "20170203\n",
      "20170203\n",
      "20170203\n",
      "20170203\n",
      "20170203\n",
      "20170203\n",
      "20170203\n",
      "20170203\n",
      "20170203\n",
      "20170203\n",
      "20170203\n",
      "20170203\n",
      "20170203\n",
      "20170203\n",
      "20170203\n",
      "20170203\n",
      "20170203\n",
      "20170203\n",
      "20170203\n",
      "20170204\n",
      "20170204\n",
      "20170204\n",
      "20170204\n",
      "20170204\n",
      "20170204\n",
      "20170204\n",
      "20170204\n",
      "20170204\n",
      "20170204\n",
      "20170204\n",
      "20170204\n",
      "20170204\n",
      "20170204\n",
      "20170204\n",
      "20170204\n",
      "20170204\n",
      "20170204\n",
      "20170204\n",
      "20170204\n",
      "20170204\n",
      "20170204\n",
      "20170204\n",
      "20170204\n",
      "20170208\n",
      "20170208\n",
      "20170208\n",
      "20170208\n",
      "20170208\n",
      "20170208\n",
      "20170208\n",
      "20170208\n",
      "20170208\n",
      "20170208\n",
      "20170208\n",
      "20170208\n",
      "20170208\n",
      "20170208\n",
      "20170208\n",
      "20170208\n",
      "20170208\n",
      "20170208\n",
      "20170208\n",
      "20170208\n",
      "20170209\n",
      "20170209\n",
      "20170209\n",
      "20170209\n",
      "20170209\n",
      "20170209\n",
      "20170209\n",
      "20170209\n",
      "20170209\n",
      "20170209\n",
      "20170209\n",
      "20170209\n",
      "20170209\n",
      "20170209\n",
      "20170209\n",
      "20170209\n",
      "20170209\n",
      "20170209\n",
      "20170209\n",
      "20170209\n",
      "20170209\n",
      "20170209\n",
      "20170209\n",
      "20170209\n",
      "20170209\n",
      "20170209\n",
      "20170209\n",
      "20170209\n",
      "20170209\n",
      "20170209\n",
      "20170209\n",
      "20170209\n",
      "20170210\n",
      "20170210\n",
      "20170210\n",
      "20170210\n",
      "20170210\n",
      "20170210\n",
      "20170210\n",
      "20170210\n",
      "20170211\n",
      "20170211\n"
     ]
    }
   ],
   "source": [
    "etiquetas = get_labels(datos_rayo)\n"
   ]
  },
  {
   "cell_type": "code",
   "execution_count": null,
   "metadata": {
    "collapsed": false
   },
   "outputs": [],
   "source": [
    "fig = plt.figure()\n",
    "ax = fig.add_subplot(111)\n",
    "ax.imshow(etiquetas.fields['dBZ']['data'][0], origin='lower')\n",
    "plt.show()"
   ]
  },
  {
   "cell_type": "code",
   "execution_count": null,
   "metadata": {
    "collapsed": false
   },
   "outputs": [],
   "source": [
    "def get_rays(day,init_time):\n",
    "    folder=day[:6]\n",
    "    dia=day[2:]\n",
    "    path_user_rayos = './rayos/'+ folder + '/' + dia\n",
    "    # Con esto levanto todos los datos de rayos país ese día\n",
    "    with open(path_user_rayos+'.txt') as f:\n",
    "        lights = f.readlines()"
   ]
  },
  {
   "cell_type": "code",
   "execution_count": null,
   "metadata": {
    "collapsed": false
   },
   "outputs": [],
   "source": [
    "lat_grid = grid.get_point_longitude_latitude(level=0, edges=False)[1]\n",
    "lon_grid = grid.get_point_longitude_latitude(level=0, edges=False)[0]\n",
    "extLat   = [np.amin(lat_grid),np.amax(lat_grid)]\n",
    "difLat   = bins/(extLat[1]-extLat[0])\n",
    "extLon   = [np.amin(lon_grid),np.amax(lon_grid)]\n",
    "difLon   = bins/(extLon[1]-extLon[0])"
   ]
  },
  {
   "cell_type": "code",
   "execution_count": null,
   "metadata": {
    "collapsed": true
   },
   "outputs": [],
   "source": []
  }
 ],
 "metadata": {
  "kernelspec": {
   "display_name": "Python 3",
   "language": "python",
   "name": "python3"
  },
  "language_info": {
   "codemirror_mode": {
    "name": "ipython",
    "version": 3
   },
   "file_extension": ".py",
   "mimetype": "text/x-python",
   "name": "python",
   "nbconvert_exporter": "python",
   "pygments_lexer": "ipython3",
   "version": "3.6.0"
  }
 },
 "nbformat": 4,
 "nbformat_minor": 2
}
