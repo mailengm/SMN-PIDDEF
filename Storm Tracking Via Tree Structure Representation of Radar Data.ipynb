{
 "cells": [
  {
   "cell_type": "markdown",
   "metadata": {},
   "source": [
    "# Storm Tracking Via Tree Structure Representation of Radar Data"
   ]
  },
  
  {
   "cell_type": "markdown",
   "metadata": {},
   "source": [
    " #### Hou-Wang 2017",
    " "
   ]
  },
  
  {
   "cell_type": "markdown",
   "metadata": {},
   "source": [
    " #### Los datos y las librerías necesarias\n",
    " "
   ]
  },
  {
   "cell_type": "code",
   "execution_count": 281,
   "metadata": {
    "collapsed": false
   },
   "outputs": [],
   "source": [
    "%reset_selective -f b\n",
    "\n",
    "# Este comando le indica a Python que las figuras se deben generar dentro de la misma Notebook, no en una ventana\n",
    "## Solo para notebooks.\n",
    "%matplotlib inline\n",
    "\n",
    "from matplotlib import pyplot as plt\n",
    "from matplotlib import colors\n",
    "import numpy as np\n",
    "import glob\n",
    "import pyart\n",
    "import scipy.io as sio\n",
    "\n"
   ]
  },
  {
   "cell_type": "code",
   "execution_count": 282,
   "metadata": {
    "collapsed": false
   },
   "outputs": [
    {
     "name": "stdout",
     "output_type": "stream",
     "text": [
      "./cfrad.20110115_182004.000_to_20110115_182424.000_ANG_v19_SUR.nc\n"
     ]
    }
   ],
   "source": [
    "path_user = './'\n",
    "FileList = np.sort(glob.glob(path_user+'*.nc'))\n",
    "file2read=FileList[0]\n",
    "print(file2read)\n",
    "\n",
    "# Creamos el objeto \"radar\"\n",
    "radar = pyart.io.read(file2read)"
   ]
  },
  {
   "cell_type": "markdown",
   "metadata": {},
   "source": [
    "### Uso los datos de la primera elevación."
   ]
  },
  {
   "cell_type": "code",
   "execution_count": 283,
   "metadata": {
    "collapsed": true
   },
   "outputs": [],
   "source": [
    "nelev=0\n",
    "\n",
    "start_index = radar.sweep_start_ray_index['data'][nelev]\n",
    "end_index   = radar.sweep_end_ray_index['data'][nelev]\n",
    "\n",
    "rango  = radar.range['data']\n",
    "tiempo = radar.time['data'][start_index:end_index]\n",
    "\n",
    "# Sitio radar\n",
    "lat_radar = radar.latitude['data'][0]\n",
    "lon_radar = radar.longitude['data'][0]\n",
    "\n",
    "# Datos de lat/lon\n",
    "lats = radar.gate_latitude['data'][start_index:end_index]\n",
    "lons = radar.gate_longitude['data'][start_index:end_index]\n",
    "\n",
    "# Datos x/y (en metros)\n",
    "xdist = radar.gate_x['data'][start_index:end_index]/1000.\n",
    "ydist = radar.gate_y['data'][start_index:end_index]/1000.\n",
    "\n",
    "# Variables radar\n",
    "Zh  = radar.fields['dBZ']['data'][start_index:end_index, :]"
   ]
  },
  {
   "cell_type": "code",
   "execution_count": 284,
   "metadata": {
    "collapsed": false
   },
   "outputs": [
    {
     "data": {
      "text/plain": [
       "pyart.core.radar.Radar"
      ]
     },
     "execution_count": 284,
     "metadata": {},
     "output_type": "execute_result"
    }
   ],
   "source": [
    "type(radar)"
   ]
  },
  {
   "cell_type": "code",
   "execution_count": 285,
   "metadata": {
    "collapsed": true
   },
   "outputs": [],
   "source": [
    "# mask out last 10 gates of each ray, this removes the \"ring\" around th radar.\n",
    "radar.fields['dBZ']['data'][:, -10:] = np.ma.masked\n",
    "\n",
    "# exclude masked gates from the gridding\n",
    "gatefilter = pyart.filters.GateFilter(radar)\n",
    "gatefilter.exclude_transition()\n",
    "gatefilter.exclude_masked('dBZ')"
   ]
  },
  {
   "cell_type": "code",
   "execution_count": 286,
   "metadata": {
    "collapsed": false
   },
   "outputs": [],
   "source": [
    "# perform Cartesian mapping, limit to the reflectivity field.\n",
    "grid = pyart.map.grid_from_radars(\n",
    "    (radar,), gatefilters=(gatefilter, ),\n",
    "    grid_shape=(1, 480, 480),\n",
    "    grid_limits=((0, 0), (-240000.0, 240000.0), (-240000.0, 240000.0)),\n",
    "    fields=['dBZ'])"
   ]
  },
  {
   "cell_type": "code",
   "execution_count": 287,
   "metadata": {
    "collapsed": false
   },
   "outputs": [
    {
     "data": {
      "image/png": "[encoded data removed]",
      "text/plain": [
       "<matplotlib.figure.Figure at 0x7f532eda48d0>"
      ]
     },
     "metadata": {},
     "output_type": "display_data"
    }
   ],
   "source": [
    "fig = plt.figure()\n",
    "ax = fig.add_subplot(111)\n",
    "ax.imshow(grid.fields['dBZ']['data'][0], origin='lower')\n",
    "plt.show()"
   ]
  },
  {
   "cell_type": "markdown",
   "metadata": {},
   "source": [
    "Ya tengo la información del radar en una grilla de aproximadamente 1kmx1km. Quiero poder recuperar la información de cada celda."
   ]
  },
  {
   "cell_type": "code",
   "execution_count": 288,
   "metadata": {
    "collapsed": false,
    "scrolled": false
   },
   "outputs": [],
   "source": [
    "x=grid.x['data']\n",
    "y=grid.y['data']\n",
    "n=x.size"
   ]
  },
  {
   "cell_type": "code",
   "execution_count": 289,
   "metadata": {
    "collapsed": false,
    "scrolled": false
   },
   "outputs": [
    {
     "name": "stderr",
     "output_type": "stream",
     "text": [
      "/home/mailen/anaconda3/lib/python3.6/site-packages/numpy/ma/core.py:4185: UserWarning: Warning: converting a masked element to nan.\n",
      "  warnings.warn(\"Warning: converting a masked element to nan.\")\n",
      "/home/mailen/anaconda3/lib/python3.6/site-packages/numpy/lib/function_base.py:3569: RuntimeWarning: Invalid value encountered in median\n",
      "  RuntimeWarning)\n"
     ]
    },
    {
     "data": {
      "image/png": "[encoded data removed]",
      "text/plain": [
       "<matplotlib.figure.Figure at 0x7f532eb203c8>"
      ]
     },
     "metadata": {},
     "output_type": "display_data"
    }
   ],
   "source": [
    "Ze = grid.fields['dBZ']['data'][0]\n",
    "Zef = np.zeros(Ze.shape)\n",
    "#Filtro de mediana 3x3 pixel\n",
    "\n",
    "for i in range(1,n-1):\n",
    "    for j in range(1,n-1):\n",
    "        indice=np.ravel_multi_index((i,j),Ze.shape)\n",
    "        \n",
    "        ind1=Ze[i-1,j-1]\n",
    "        ind2=Ze[i,j-1]\n",
    "        ind3=Ze[i+1,j+1]\n",
    "        ind4=Ze[i-1,j]\n",
    "        ind6=Ze[i+1,j]\n",
    "        ind7=Ze[i-1,j+1]\n",
    "        ind8=Ze[i,j+1]\n",
    "        ind9=Ze[i+1,j+1]\n",
    "        \n",
    "        neig=[ind1, ind2, ind3, ind4, ind6, ind7, ind8, ind9]\n",
    "                                   \n",
    "        med=np.median(neig)\n",
    "        \n",
    "        if med>20:\n",
    "            Zef[i,j]= np.median(neig)\n",
    "        else:\n",
    "            Zef[i,j]= 0\n",
    "fig = plt.figure()\n",
    "ax = fig.add_subplot(111)\n",
    "ax.imshow(Zef, origin='lower')\n",
    "plt.show()"
   ]
  },
  {
   "cell_type": "markdown",
   "metadata": {},
   "source": [
    "### Definición de los árboles\n",
    "\n",
    "Primero se eligen los umbrales\n"
   ]
  },
  {
   "cell_type": "code",
   "execution_count": 309,
   "metadata": {
    "collapsed": false
   },
   "outputs": [],
   "source": [
    "\n",
    "maximo=int(np.max(Zef) - 5)\n",
    "\n",
    "umb=np.linspace(20,maximo,num=5)\n",
    "cp=umb.size-1"
   ]
  },
  {
   "cell_type": "code",
   "execution_count": 291,
   "metadata": {
    "collapsed": false
   },
   "outputs": [
    {
     "data": {
      "text/plain": [
       "array([[ 0.,  0.,  0., ...,  0.,  0.,  0.],\n",
       "       [ 0.,  0.,  0., ...,  0.,  0.,  0.],\n",
       "       [ 0.,  0.,  0., ...,  0.,  0.,  0.],\n",
       "       ..., \n",
       "       [ 0.,  0.,  0., ...,  0.,  0.,  0.],\n",
       "       [ 0.,  0.,  0., ...,  0.,  0.,  0.],\n",
       "       [ 0.,  0.,  0., ...,  0.,  0.,  0.]])"
      ]
     },
     "execution_count": 291,
     "metadata": {},
     "output_type": "execute_result"
    }
   ],
   "source": [
    "capa=[np.zeros(Ze.shape),np.ones(Ze.shape),np.zeros(Ze.shape),np.zeros(Ze.shape),np.zeros(Ze.shape)]\n",
    "capa[0]\n"
   ]
  },
  {
   "cell_type": "code",
   "execution_count": 292,
   "metadata": {
    "collapsed": false
   },
   "outputs": [],
   "source": [
    "#Consigo las Pi\n",
    "capa_aux = np.zeros(Ze.shape)\n",
    "for t in range(0,umb.size):\n",
    "    \n",
    "    for i in range(1,n-1):\n",
    "        for j in range(1,n-1):\n",
    "            med=Zef[i,j]\n",
    "            if med<umb[t]:\n",
    "                capa_aux[i,j] = 0\n",
    "            else:\n",
    "                capa_aux[i,j] = med\n",
    "                \n",
    "    capa[t] = capa_aux\n",
    "    capa_aux = np.zeros(Ze.shape)\n",
    "    \n",
    "#    fig = plt.figure()\n",
    "#    ax = fig.add_subplot(111)\n",
    "#    ax.imshow(capa[t], origin='lower')\n",
    "#    plt.show()\n",
    "    "
   ]
  },
  {
   "cell_type": "markdown",
   "metadata": {},
   "source": [
    "#### Ahora puedo identificar las regiones usando un método de identificación de regiones. \n",
    "Robert Shapiro 1992"
   ]
  },
  {
   "cell_type": "markdown",
   "metadata": {},
   "source": [
    "1. Lo paso a binario"
   ]
  },
  {
   "cell_type": "code",
   "execution_count": 294,
   "metadata": {
    "collapsed": false
   },
   "outputs": [
    {
     "data": {
      "image/png": "[encoded data removed]",
      "text/plain": [
       "<matplotlib.figure.Figure at 0x7f532ec12e48>"
      ]
     },
     "metadata": {},
     "output_type": "display_data"
    },
    {
     "data": {
      "image/png": "[encoded data removed]",
      "text/plain": [
       "<matplotlib.figure.Figure at 0x7f532ec1e978>"
      ]
     },
     "metadata": {},
     "output_type": "display_data"
    },
    {
     "data": {
      "image/png": "[encoded data removed]",
      "text/plain": [
       "<matplotlib.figure.Figure at 0x7f532eb529b0>"
      ]
     },
     "metadata": {},
     "output_type": "display_data"
    },
    {
     "data": {
      "image/png": "[encoded data removed]",
      "text/plain": [
       "<matplotlib.figure.Figure at 0x7f532eb6ada0>"
      ]
     },
     "metadata": {},
     "output_type": "display_data"
    },
    {
     "data": {
      "image/png": "[encoded data removed]",
      "text/plain": [
       "<matplotlib.figure.Figure at 0x7f532ec1e278>"
      ]
     },
     "metadata": {},
     "output_type": "display_data"
    }
   ],
   "source": [
    "capa_bin = [np.zeros(Ze.shape),np.zeros(Ze.shape),np.zeros(Ze.shape),np.zeros(Ze.shape),np.zeros(Ze.shape)]\n",
    "capa_aux = np.zeros(Ze.shape)\n",
    "for t in range(0,umb.size):\n",
    "    capa_actual=capa[t]\n",
    "    for i in range(1,n-1):\n",
    "        for j in range(1,n-1):\n",
    "            med=capa_actual[i,j]\n",
    "            if med != 0:\n",
    "                capa_actual[i,j] = 1\n",
    "            \n",
    "                \n",
    "    capa_bin[t] = capa_actual\n",
    "    \n",
    "    \n",
    "    fig = plt.figure()\n",
    "    ax = fig.add_subplot(111)\n",
    "    ax.imshow(capa[t], origin='lower')\n",
    "    plt.show()\n"
   ]
  },
  {
   "cell_type": "code",
   "execution_count": 295,
   "metadata": {
    "collapsed": false,
    "scrolled": false
   },
   "outputs": [
    {
     "name": "stdout",
     "output_type": "stream",
     "text": [
      "-2576\n"
     ]
    }
   ],
   "source": [
    "#colorido\n",
    "muestra = capa_bin[2]\n",
    "etiquetas = np.zeros(Ze.shape)\n",
    "tag = 1\n",
    "\n",
    "for i in range(1,n-1):\n",
    "    \n",
    "    for j in range(1,n-1):\n",
    "        \n",
    "        celda = muestra[i,j] \n",
    "        \n",
    "        if celda != 0:\n",
    "            etiquetas[i,j]=tag\n",
    "            tag=tag+1\n",
    "            \n",
    "#Clasificación\n",
    "cluster_in=np.unique(etiquetas).size\n",
    "cluster_fin=0\n",
    "\n",
    "dif=cluster_fin-cluster_in\n",
    "print(dif)\n",
    "counts = 0\n",
    "while dif!=0:\n",
    "    \n",
    "    cluster_in=cluster_fin\n",
    "    area = counts\n",
    "    for i in range(1,n-1):\n",
    "    \n",
    "        for j in range(1,n-1):\n",
    "        \n",
    "            celda = etiquetas[i,j] \n",
    "        \n",
    "            if celda != 0:\n",
    "                \n",
    "            \n",
    "                vecinos = [etiquetas[i-1,j-1], etiquetas[i,j-1],etiquetas[i+1,j-1],\n",
    "                           etiquetas[i-1,j],etiquetas[i+1,j],etiquetas[i-1,j+1], etiquetas[i,j+1], etiquetas[i+1,j+1]]\n",
    "                buenos_vecinos= [x for x in vecinos if x != 0]\n",
    "                \n",
    "                if not buenos_vecinos :\n",
    "                    tag=tag+1\n",
    "                    \n",
    "                else:\n",
    "                    tag=min(buenos_vecinos)\n",
    "                    \n",
    "                    etiquetas[i,j]=tag\n",
    "     \n",
    "    unique, counts = np.unique(etiquetas, return_counts=True)\n",
    "    cluster_fin=unique.size\n",
    "    \n",
    "    dif=cluster_fin-cluster_in\n",
    "    #second check\n",
    "    if dif == 0:\n",
    "    \n",
    "        dif=max(counts-area)\n",
    "        \n",
    "    "
   ]
  },
  {
   "cell_type": "code",
   "execution_count": 296,
   "metadata": {
    "collapsed": false,
    "scrolled": false
   },
   "outputs": [
    {
     "data": {
      "image/png": "[encoded data removed]",
      "text/plain": [
       "<matplotlib.figure.Figure at 0x7f532eda5668>"
      ]
     },
     "metadata": {},
     "output_type": "display_data"
    }
   ],
   "source": [
    "fig = plt.figure()\n",
    "ax = fig.add_subplot(111)\n",
    "ax.imshow(etiquetas, origin='lower', cmap='Vega20c')\n",
    "plt.show()"
   ]
  },
  {
   "cell_type": "markdown",
   "metadata": {},
   "source": [
    "Calculo el área de cada uno. Como usé que el área de los puntos es 1kmx1km solo tengo que contar la cantidad de celdas en el cluster"
   ]
  },
  {
   "cell_type": "code",
   "execution_count": 297,
   "metadata": {
    "collapsed": false
   },
   "outputs": [],
   "source": [
    "unique, counts = np.unique(etiquetas, return_counts=True)\n",
    "unique = np.delete(unique,0)\n",
    "area = np.delete(counts,0)\n"
   ]
  },
  {
   "cell_type": "markdown",
   "metadata": {},
   "source": [
    "Genero la variable clusters que me guarda los índices de cada uno."
   ]
  },
  {
   "cell_type": "code",
   "execution_count": 298,
   "metadata": {
    "collapsed": false
   },
   "outputs": [],
   "source": [
    "clusters = []\n",
    "\n",
    "for i in range(0,unique.size):\n",
    "    clusters.append(np.argwhere(etiquetas==unique[i]))\n",
    "\n",
    "\n"
   ]
  },
  {
   "cell_type": "markdown",
   "metadata": {},
   "source": [
    "Calculo la intensidad media en cada cluster y centro"
   ]
  },
  {
   "cell_type": "code",
   "execution_count": 299,
   "metadata": {
    "collapsed": false
   },
   "outputs": [],
   "source": [
    "elementos = clusters[0]\n",
    "x = 0\n",
    "y = 0\n",
    "media = []\n",
    "centro = []\n",
    "for i in range(0,unique.size):\n",
    "    elementos=clusters[i]\n",
    "    cantidad = elementos.shape[0]\n",
    "    suma = 0\n",
    "    xc = 0\n",
    "    yc = 0\n",
    "    for j in range(0,cantidad):\n",
    "        \n",
    "        x,y = elementos[j]\n",
    "        xc = xc + x\n",
    "        yc = yc + y\n",
    "        suma = suma + Ze[x,y]\n",
    "    centro.append([xc/cantidad,yc/cantidad])\n",
    "    media.append(suma/cantidad)\n"
   ]
  },
  {
   "cell_type": "code",
   "execution_count": 300,
   "metadata": {
    "collapsed": false,
    "scrolled": true
   },
   "outputs": [
    {
     "data": {
      "image/png": "[encoded data removed]",
      "text/plain": [
       "<matplotlib.figure.Figure at 0x7f532eb2bcc0>"
      ]
     },
     "metadata": {},
     "output_type": "display_data"
    }
   ],
   "source": [
    "fig = plt.figure(figsize=[15,15])\n",
    "\n",
    "ax = fig.add_subplot(111)\n",
    "ax.imshow(etiquetas, origin='lower')\n",
    "data = np.asarray(centro)\n",
    "N = len(centro)\n",
    "labels = ['cluster{0}'.format(i) for i in range(N)]\n",
    "\n",
    "for label, x, y in zip(labels, data[:, 1], data[:, 0]):\n",
    "    plt.annotate(\n",
    "        label,\n",
    "        xy=(x, y), xytext=(-20, 20),\n",
    "        textcoords='offset points', ha='right', va='bottom',\n",
    "        bbox=dict(boxstyle='round,pad=0.5', fc='yellow', alpha=0.5),\n",
    "        arrowprops=dict(arrowstyle = '->', connectionstyle='arc3,rad=0'))\n",
    "    \n",
    "\n",
    "plt.show()"
   ]
  },
  {
   "cell_type": "code",
   "execution_count": null,
   "metadata": {
    "collapsed": true
   },
   "outputs": [],
   "source": []
  },
  {
   "cell_type": "code",
   "execution_count": null,
   "metadata": {
    "collapsed": false
   },
   "outputs": [],
   "source": []
  },
  {
   "cell_type": "code",
   "execution_count": 301,
   "metadata": {
    "collapsed": false
   },
   "outputs": [
    {
     "ename": "AttributeError",
     "evalue": "'list' object has no attribute 'area'",
     "output_type": "error",
     "traceback": [
      "\u001b[0;31m---------------------------------------------------------------------------\u001b[0m",
      "\u001b[0;31mAttributeError\u001b[0m                            Traceback (most recent call last)",
      "\u001b[0;32m<ipython-input-301-96560babf282>\u001b[0m in \u001b[0;36m<module>\u001b[0;34m()\u001b[0m\n\u001b[0;32m----> 1\u001b[0;31m \u001b[0mnodos\u001b[0m\u001b[0;34m.\u001b[0m\u001b[0marea\u001b[0m\u001b[0;34m\u001b[0m\u001b[0m\n\u001b[0m",
      "\u001b[0;31mAttributeError\u001b[0m: 'list' object has no attribute 'area'"
     ]
    }
   ],
   "source": [
    "nodos.area"
   ]
  },
  {
   "cell_type": "code",
   "execution_count": null,
   "metadata": {
    "collapsed": true
   },
   "outputs": [],
   "source": []
  }
 ],
 "metadata": {
  "kernelspec": {
   "display_name": "Python 3",
   "language": "python",
   "name": "python3"
  },
  "language_info": {
   "codemirror_mode": {
    "name": "ipython",
    "version": 3
   },
   "file_extension": ".py",
   "mimetype": "text/x-python",
   "name": "python",
   "nbconvert_exporter": "python",
   "pygments_lexer": "ipython3",
   "version": "3.6.0"
  }
 },
 "nbformat": 4,
 "nbformat_minor": 2
}
