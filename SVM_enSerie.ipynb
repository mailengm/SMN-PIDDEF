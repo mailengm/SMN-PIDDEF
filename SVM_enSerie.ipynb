{
 "cells": [
  {
   "cell_type": "code",
   "execution_count": 4,
   "metadata": {
    "collapsed": false
   },
   "outputs": [
    {
     "name": "stdout",
     "output_type": "stream",
     "text": [
      "\n",
      "## You are using the Python ARM Radar Toolkit (Py-ART), an open source\n",
      "## library for working with weather radar data. Py-ART is partly\n",
      "## supported by the U.S. Department of Energy as part of the Atmospheric\n",
      "## Radiation Measurement (ARM) Climate Research Facility, an Office of\n",
      "## Science user facility.\n",
      "##\n",
      "## If you use this software to prepare a publication, please cite:\n",
      "##\n",
      "##     JJ Helmus and SM Collis, JORS 2016, doi: 10.5334/jors.119\n",
      "\n"
     ]
    }
   ],
   "source": [
    "%reset_selective -f b\n",
    "\n",
    "# Este comando le indica a Python que las figuras se deben generar dentro de la misma Notebook,\n",
    "##no en una ventana\n",
    "## Solo para notebooks.\n",
    "%matplotlib inline\n",
    "\n",
    "from matplotlib import pyplot as plt\n",
    "from matplotlib import colors\n",
    "#from sklearn.svm import SVC\n",
    "import numpy as np\n",
    "import time\n",
    "import glob\n",
    "import pyart\n",
    "import scipy.io as sio\n",
    "import re\n",
    "import funciones as fc\n",
    "import pickle\n",
    "\n",
    "#import tensorflow as tf\n",
    "from sklearn.svm import SVC\n",
    "def save(object,filename):\n",
    "    with open(filename,\"wb\") as f:\n",
    "        pickle.dump( object, f)\n",
    "        \n",
    "from collections import Counter\n",
    "\n",
    "def vecinos(feature):\n",
    "    f = np.c_[np.zeros(240), feature, np.zeros(240)].transpose()\n",
    "    f = np.c_[np.zeros(242), f ,np.zeros(242)].transpose()\n",
    "    x3=f[0:240].transpose()[0:240].transpose().ravel()\n",
    "    x4=f[0:240].transpose()[1:241].transpose().ravel()\n",
    "    x5=f[0:240].transpose()[2:242].transpose().ravel()\n",
    "    x6=f[1:241].transpose()[0:240].transpose().ravel()\n",
    "    x7=f[1:241].transpose()[2:242].transpose().ravel()\n",
    "    x8=f[2:242].transpose()[0:240].transpose().ravel()\n",
    "    x9=f[2:242].transpose()[1:241].transpose().ravel()\n",
    "    x10=f[2:242].transpose()[2:242].transpose().ravel()\n",
    "    return(x3,x4,x5,x6,x7,x8,x9,x10)"
   ]
  },
  {
   "cell_type": "code",
   "execution_count": 7,
   "metadata": {
    "collapsed": true
   },
   "outputs": [],
   "source": [
    "file = open(\"etiquetas.pickle\",'rb')\n",
    "etiquetas = pickle.load(file)\n",
    "file = open(\"rayos.pickle\",'rb')\n",
    "rayos = pickle.load(file)\n",
    "file = open(\"rayos_post.pickle\",'rb')\n",
    "rayos_post = pickle.load(file)"
   ]
  },
  {
   "cell_type": "code",
   "execution_count": 20,
   "metadata": {
    "collapsed": false,
    "scrolled": true
   },
   "outputs": [],
   "source": [
    "X_n=[]\n",
    "y_n=[]\n",
    "for j in range(345):\n",
    "    #print j\n",
    "    \n",
    "    y=etiquetas[j].data.ravel()\n",
    "    valor=np.unique(y)\n",
    "    #print(valor.size)\n",
    "    if (valor.size > 1):\n",
    "        a=rayos[j].ravel()\n",
    "        b=rayos_post[j].ravel()\n",
    "        v=vecinos(rayos[j])\n",
    "        w=vecinos(rayos_post[j])\n",
    "\n",
    "        feat=20\n",
    "        samp=a.size\n",
    "        X=np.zeros((feat,samp))\n",
    "\n",
    "        X[0]=a\n",
    "        X[1]=b\n",
    "\n",
    "        for i in range(0,7):\n",
    "            X[i+2]=v[i]\n",
    "            X[i+10]=w[i]\n",
    "\n",
    "\n",
    "        X=X.transpose()\n",
    "        clf = SVC(C=5.0)\n",
    "\n",
    "        clf.fit(X, y)\n",
    "\n",
    "        for k in (clf.support_):\n",
    "            X_n.append(X[k])\n",
    "            y_n.append(y[k])"
   ]
  },
  {
   "cell_type": "code",
   "execution_count": 21,
   "metadata": {
    "collapsed": false
   },
   "outputs": [
    {
     "name": "stdout",
     "output_type": "stream",
     "text": [
      "(78453, 57600)\n"
     ]
    }
   ],
   "source": [
    "print(len(y_n),etiquetas[0].data.size)"
   ]
  },
  {
   "cell_type": "code",
   "execution_count": null,
   "metadata": {
    "collapsed": false
   },
   "outputs": [],
   "source": [
    "X2=np.zeros((len(y_n),20))\n",
    "y2=y_n\n",
    "for i in range (len(y_n)):\n",
    "    X2[i]=X_n[i]\n"
   ]
  },
  {
   "cell_type": "code",
   "execution_count": null,
   "metadata": {
    "collapsed": false
   },
   "outputs": [],
   "source": [
    "clf = SVC(C=5.0)\n",
    "\n",
    "clf.fit(X2, y2)"
   ]
  },
  {
   "cell_type": "code",
   "execution_count": null,
   "metadata": {
    "collapsed": false
   },
   "outputs": [],
   "source": [
    "for i in (1,):\n",
    "    X=np.zeros((feat,240*240))\n",
    "    a=rayos[5].ravel()\n",
    "    b=rayos_post[5].ravel()\n",
    "    X[0]=a\n",
    "    X[1]=b\n",
    "    X[2]=v[0]\n",
    "    X[3]=v[1]\n",
    "    X[4]=v[2]\n",
    "    X[5]=v[3]\n",
    "    X[6]=v[4]\n",
    "    X[7]=v[5]\n",
    "    X[8]=v[6]\n",
    "    X[9]=v[7]\n",
    "\n",
    "    X[10]=w[0]\n",
    "    X[11]=w[1]\n",
    "    X[12]=w[2]\n",
    "    X[13]=w[3]\n",
    "    X[14]=w[4]\n",
    "    X[15]=w[5]\n",
    "    X[16]=w[6]\n",
    "    X[17]=w[7]\n",
    "\n",
    "    X = X.transpose()\n",
    "    resultado = clf.predict(X)\n",
    "    test=etiquetas[i].data.ravel()-resultado\n",
    "\n",
    "\n",
    "    plt.figure(1)\n",
    "\n",
    "    plt.figure(figsize=(10,10))\n",
    "\n",
    "    plt.subplot(221)\n",
    "    plt.title('Prediccion')\n",
    "    plt.imshow(resultado.reshape(240,240),origin='lower',cmap='Paired')\n",
    "\n",
    "    plt.subplot(222)\n",
    "    plt.title('Real')\n",
    "    plt.imshow(etiquetas[i].data,origin='lower',cmap='Paired')\n",
    "\n",
    "\n",
    "    plt.show()\n",
    "    "
   ]
  },
  {
   "cell_type": "code",
   "execution_count": null,
   "metadata": {
    "collapsed": true
   },
   "outputs": [],
   "source": []
  }
 ],
 "metadata": {
  "anaconda-cloud": {},
  "kernelspec": {
   "display_name": "Python [default]",
   "language": "python",
   "name": "python2"
  },
  "language_info": {
   "codemirror_mode": {
    "name": "ipython",
    "version": 2
   },
   "file_extension": ".py",
   "mimetype": "text/x-python",
   "name": "python",
   "nbconvert_exporter": "python",
   "pygments_lexer": "ipython2",
   "version": "2.7.12"
  }
 },
 "nbformat": 4,
 "nbformat_minor": 1
}
