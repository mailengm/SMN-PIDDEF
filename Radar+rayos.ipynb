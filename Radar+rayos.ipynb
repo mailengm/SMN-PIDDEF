{
 "cells": [
  {
   "cell_type": "markdown",
   "metadata": {},
   "source": [
    "# Inputs"
   ]
  },
  {
   "cell_type": "markdown",
   "metadata": {},
   "source": [
    "### Librerías necesarias"
   ]
  },
  {
   "cell_type": "code",
   "execution_count": 1,
   "metadata": {
    "collapsed": false
   },
   "outputs": [
    {
     "name": "stdout",
     "output_type": "stream",
     "text": [
      "\n",
      "## You are using the Python ARM Radar Toolkit (Py-ART), an open source\n",
      "## library for working with weather radar data. Py-ART is partly\n",
      "## supported by the U.S. Department of Energy as part of the Atmospheric\n",
      "## Radiation Measurement (ARM) Climate Research Facility, an Office of\n",
      "## Science user facility.\n",
      "##\n",
      "## If you use this software to prepare a publication, please cite:\n",
      "##\n",
      "##     JJ Helmus and SM Collis, JORS 2016, doi: 10.5334/jors.119\n",
      "\n"
     ]
    }
   ],
   "source": [
    "%reset_selective -f b\n",
    "\n",
    "# Este comando le indica a Python que las figuras se deben generar dentro de la misma Notebook, no en una ventana\n",
    "## Solo para notebooks.\n",
    "%matplotlib inline\n",
    "\n",
    "from matplotlib import pyplot as plt\n",
    "from matplotlib import colors\n",
    "import numpy as np\n",
    "import glob\n",
    "import pyart\n",
    "import scipy.io as sio\n",
    "import re"
   ]
  },
  {
   "cell_type": "markdown",
   "metadata": {},
   "source": [
    "### Levanto los datos"
   ]
  },
  {
   "cell_type": "code",
   "execution_count": 2,
   "metadata": {
    "collapsed": true
   },
   "outputs": [],
   "source": [
    "dia = '20170203'"
   ]
  },
  {
   "cell_type": "markdown",
   "metadata": {},
   "source": [
    "#### Levanto los datos de radar"
   ]
  },
  {
   "cell_type": "code",
   "execution_count": 3,
   "metadata": {
    "collapsed": false
   },
   "outputs": [
    {
     "name": "stdout",
     "output_type": "stream",
     "text": [
      "./febdBZ/20170203/cfrad.20170203_000004.000_to_20170203_000423.001_INTA_Ang_v263_SUR.nc\n"
     ]
    }
   ],
   "source": [
    "path_user_radar = './febdBZ/'+ dia + '/'\n",
    "FileList_radar = np.sort(glob.glob(path_user_radar+'*.nc'))\n",
    "file2read_radar =FileList_radar[0]\n",
    "print(file2read_radar)\n",
    "\n",
    "#Creamos el objeto \"radar\"\n",
    "radar = pyart.io.read(file2read_radar)\n"
   ]
  },
  {
   "cell_type": "markdown",
   "metadata": {},
   "source": [
    "\n",
    "\n",
    "#### Levanto los datos de rayos\n"
   ]
  },
  {
   "cell_type": "code",
   "execution_count": 4,
   "metadata": {
    "collapsed": true
   },
   "outputs": [],
   "source": [
    "path_user_rayos = './rayos/201702/'+ dia\n",
    "\n",
    "\n",
    "\n",
    "\n",
    "with open(path_user_rayos+'.txt') as f:\n",
    "    lines = f.readlines()"
   ]
  },
  {
   "cell_type": "markdown",
   "metadata": {},
   "source": [
    "#### Armo las celdas"
   ]
  },
  {
   "cell_type": "markdown",
   "metadata": {},
   "source": [
    "Las grillas las genero en el radar, luego correlaciono la información de rayos."
   ]
  },
  {
   "cell_type": "code",
   "execution_count": 5,
   "metadata": {
    "collapsed": true
   },
   "outputs": [],
   "source": [
    "nelev=0\n",
    "\n",
    "start_index = radar.sweep_start_ray_index['data'][nelev]\n",
    "end_index   = radar.sweep_end_ray_index['data'][nelev]\n",
    "\n",
    "rango  = radar.range['data']\n",
    "tiempo = radar.time['data'][start_index:end_index]\n",
    "\n",
    "# Sitio radar\n",
    "lat_radar = radar.latitude['data'][0]\n",
    "lon_radar = radar.longitude['data'][0]\n",
    "\n",
    "# Datos de lat/lon\n",
    "lats = radar.gate_latitude['data'][start_index:end_index]\n",
    "lons = radar.gate_longitude['data'][start_index:end_index]\n",
    "\n",
    "# Datos x/y (en metros)\n",
    "xdist = radar.gate_x['data'][start_index:end_index]/1000.\n",
    "ydist = radar.gate_y['data'][start_index:end_index]/1000.\n",
    "\n",
    "# Variables radar\n",
    "Zh  = radar.fields['dBZ']['data'][start_index:end_index, :]"
   ]
  },
  {
   "cell_type": "code",
   "execution_count": 6,
   "metadata": {
    "collapsed": true
   },
   "outputs": [],
   "source": [
    "iTime = file2read_radar.split('_')[1]\n",
    "fTime = file2read_radar.split('_')[4]"
   ]
  },
  {
   "cell_type": "code",
   "execution_count": 7,
   "metadata": {
    "collapsed": false
   },
   "outputs": [
    {
     "data": {
      "text/plain": [
       "'000423.001'"
      ]
     },
     "execution_count": 7,
     "metadata": {},
     "output_type": "execute_result"
    }
   ],
   "source": [
    "fTime"
   ]
  },
  {
   "cell_type": "markdown",
   "metadata": {},
   "source": [
    "Genero la grilla"
   ]
  },
  {
   "cell_type": "code",
   "execution_count": 8,
   "metadata": {
    "collapsed": true
   },
   "outputs": [],
   "source": [
    "# mask out last 10 gates of each ray, this removes the \"ring\" around th radar.\n",
    "radar.fields['dBZ']['data'][:, -10:] = np.ma.masked\n",
    "\n",
    "# exclude masked gates from the gridding\n",
    "gatefilter = pyart.filters.GateFilter(radar)\n",
    "gatefilter.exclude_transition()\n",
    "gatefilter.exclude_masked('dBZ')"
   ]
  },
  {
   "cell_type": "code",
   "execution_count": 9,
   "metadata": {
    "collapsed": true
   },
   "outputs": [],
   "source": [
    "# perform Cartesian mapping, limit to the reflectivity field.\n",
    "grid = pyart.map.grid_from_radars(\n",
    "    (radar,), gatefilters=(gatefilter, ),\n",
    "    grid_shape=(1, 480, 480),\n",
    "    grid_limits=((0, 0), (-240000.0, 240000.0), (-240000.0, 240000.0)),\n",
    "    fields=['dBZ'])"
   ]
  },
  {
   "cell_type": "code",
   "execution_count": 13,
   "metadata": {
    "collapsed": false
   },
   "outputs": [
    {
     "name": "stdout",
     "output_type": "stream",
     "text": [
      "[-38.698056733120367, -34.352495282538385]\n",
      "[-66.754157243330312, -61.225976756669681]\n"
     ]
    }
   ],
   "source": [
    "lat_grid=grid.get_point_longitude_latitude(level=0, edges=False)[1]\n",
    "lon_grid=grid.get_point_longitude_latitude(level=0, edges=False)[0]\n",
    "extLat = [np.amin(lat_grid),np.amax(lat_grid)]\n",
    "difLat = 480/(extLat[1]-extLat[0])\n",
    "extLon = [np.amin(lon_grid),np.amax(lon_grid)]\n",
    "difLon = 480/(extLon[1]-extLon[0])\n",
    "print(extLat)\n",
    "print(extLon)"
   ]
  },
  {
   "cell_type": "code",
   "execution_count": 11,
   "metadata": {
    "collapsed": false
   },
   "outputs": [
    {
     "name": "stdout",
     "output_type": "stream",
     "text": [
      "si\n"
     ]
    }
   ],
   "source": [
    "if (-34.667>extLat[0]) and(-34.667<extLat[1]):\n",
    "    print('si')"
   ]
  },
  {
   "cell_type": "markdown",
   "metadata": {},
   "source": [
    "Levanto los datos de rayos"
   ]
  },
  {
   "cell_type": "code",
   "execution_count": 35,
   "metadata": {
    "collapsed": false
   },
   "outputs": [],
   "source": [
    "tot = len(lines)\n",
    "\n",
    "latitude = []\n",
    "longitude = []\n",
    "time = []\n",
    "intensity = []\n",
    "latBin = []\n",
    "lonBin = []\n",
    "for i in range(tot):\n",
    "    foo=lines[i].split()\n",
    "    t=(foo[3]+foo[4]+foo[5])\n",
    "   \n",
    "    type(foo[7])\n",
    "    if (t<fTime) and (t>iTime) :\n",
    "        \n",
    "        if(float(foo[8])>extLat[0]) and (float(foo[8])<extLat[1]):\n",
    "            \n",
    "            \n",
    "            if(float(foo[7])<extLon[0]) and (float(foo[7])>extLon[1]):\n",
    "                \n",
    "                latitude.append(float(foo[8]))\n",
    "                latBin.append(int((float(foo[8])-extLat[0])*difLat))\n",
    "                lonBin.append(int((float(foo[7])-extLon[0])*difLon))\n",
    "                longitude.append(float(foo[7]))\n",
    "                time.append(t)\n",
    "                intensity.append(float(foo[9]))\n",
    "           \n",
    "    \n",
    "Rayos = {'Lat': latitude, 'Long': longitude, 'Time': time, 'Int': intensity, 'x':lonBin, 'y':latBin}\n"
   ]
  },
  {
   "cell_type": "code",
   "execution_count": 53,
   "metadata": {
    "collapsed": false
   },
   "outputs": [
    {
     "data": {
      "image/png": "[encoded data removed]",
      "text/plain": [
       "<matplotlib.figure.Figure at 0x7fc04fffa6d8>"
      ]
     },
     "metadata": {},
     "output_type": "display_data"
    }
   ],
   "source": [
    "\n",
    "fig = plt.figure(figsize=[10,10])\n",
    "ax = fig.add_subplot(111)\n",
    "ax.imshow(grid.fields['dBZ']['data'][0], origin='lower')\n",
    "x = Rayos['x']\n",
    "y = Rayos['y']\n",
    "\n",
    "plt.scatter(x, y,color='red')\n",
    "plt.show()\n",
    "\n"
   ]
  },
  {
   "cell_type": "code",
   "execution_count": 67,
   "metadata": {
    "collapsed": false
   },
   "outputs": [],
   "source": [
    "indices=[]\n",
    "for i in range(480):\n",
    "    for j in range(480):\n",
    "        \n",
    "        \n",
    "        indices.append(np.where((Rayos['x']==i) & (Rayos['y']==j)))"
   ]
  },
  {
   "cell_type": "markdown",
   "metadata": {
    "collapsed": true
   },
   "source": [
    "#### Agrego los datos de rayos a los datos del radar"
   ]
  },
  {
   "cell_type": "code",
   "execution_count": 86,
   "metadata": {
    "collapsed": false
   },
   "outputs": [
    {
     "data": {
      "text/plain": [
       "(array([], dtype=int64),)"
      ]
     },
     "execution_count": 86,
     "metadata": {},
     "output_type": "execute_result"
    }
   ],
   "source": [
    "x=Rayos['x']\n",
    "np.where(x==57)\n"
   ]
  },
  {
   "cell_type": "code",
   "execution_count": 89,
   "metadata": {
    "collapsed": false
   },
   "outputs": [],
   "source": [
    "indexes = [l for l,x in enumerate(x) if x == i]"
   ]
  },
  {
   "cell_type": "code",
   "execution_count": 90,
   "metadata": {
    "collapsed": false
   },
   "outputs": [
    {
     "data": {
      "text/plain": [
       "[]"
      ]
     },
     "execution_count": 90,
     "metadata": {},
     "output_type": "execute_result"
    }
   ],
   "source": [
    "indexes"
   ]
  },
  {
   "cell_type": "code",
   "execution_count": null,
   "metadata": {
    "collapsed": true
   },
   "outputs": [],
   "source": []
  }
 ],
 "metadata": {
  "kernelspec": {
   "display_name": "Python 3",
   "language": "python",
   "name": "python3"
  },
  "language_info": {
   "codemirror_mode": {
    "name": "ipython",
    "version": 3
   },
   "file_extension": ".py",
   "mimetype": "text/x-python",
   "name": "python",
   "nbconvert_exporter": "python",
   "pygments_lexer": "ipython3",
   "version": "3.6.0"
  }
 },
 "nbformat": 4,
 "nbformat_minor": 2
}
